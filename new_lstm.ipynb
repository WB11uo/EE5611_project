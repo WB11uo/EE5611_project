{
  "nbformat": 4,
  "nbformat_minor": 0,
  "metadata": {
    "accelerator": "GPU",
    "colab": {
      "name": "new_lstm.ipynb",
      "provenance": [],
      "collapsed_sections": []
    },
    "kernelspec": {
      "display_name": "Python 3",
      "language": "python",
      "name": "python3"
    },
    "language_info": {
      "codemirror_mode": {
        "name": "ipython",
        "version": 3
      },
      "file_extension": ".py",
      "mimetype": "text/x-python",
      "name": "python",
      "nbconvert_exporter": "python",
      "pygments_lexer": "ipython3",
      "version": "3.7.7"
    }
  },
  "cells": [
    {
      "cell_type": "code",
      "metadata": {
        "colab_type": "code",
        "id": "IiA0wAQOyKpD",
        "colab": {
          "base_uri": "https://localhost:8080/",
          "height": 34
        },
        "outputId": "8d163701-5cdf-4c67-aace-6b48568f7d63"
      },
      "source": [
        "import numpy as np\n",
        "import matplotlib.pyplot as plt\n",
        "import keras\n",
        "from keras.layers import Input,Dense,Flatten,MaxPool1D,Activation,LeakyReLU,LSTM,BatchNormalization,Dropout, Conv1D,Lambda\n",
        "from keras.models import Model\n",
        "import pandas as pd\n",
        "import keras.backend as K\n",
        "import h5py\n",
        "import model_architectures as ma\n",
        "import utils"
      ],
      "execution_count": 1,
      "outputs": [
        {
          "output_type": "stream",
          "text": [
            "Using TensorFlow backend.\n"
          ],
          "name": "stderr"
        }
      ]
    },
    {
      "cell_type": "code",
      "metadata": {
        "colab_type": "code",
        "id": "oov4luQWyhi3",
        "outputId": "97dbef31-80a2-4ab2-cca6-5877606b4a11",
        "colab": {
          "base_uri": "https://localhost:8080/",
          "height": 121
        }
      },
      "source": [
        "from google.colab import drive\n",
        "drive.mount('/content/drive')"
      ],
      "execution_count": 2,
      "outputs": [
        {
          "output_type": "stream",
          "text": [
            "Go to this URL in a browser: https://accounts.google.com/o/oauth2/auth?client_id=947318989803-6bn6qk8qdgf4n4g3pfee6491hc0brc4i.apps.googleusercontent.com&redirect_uri=urn%3aietf%3awg%3aoauth%3a2.0%3aoob&response_type=code&scope=email%20https%3a%2f%2fwww.googleapis.com%2fauth%2fdocs.test%20https%3a%2f%2fwww.googleapis.com%2fauth%2fdrive%20https%3a%2f%2fwww.googleapis.com%2fauth%2fdrive.photos.readonly%20https%3a%2f%2fwww.googleapis.com%2fauth%2fpeopleapi.readonly\n",
            "\n",
            "Enter your authorization code:\n",
            "··········\n",
            "Mounted at /content/drive\n"
          ],
          "name": "stdout"
        }
      ]
    },
    {
      "cell_type": "code",
      "metadata": {
        "colab_type": "code",
        "id": "74CHKlsYyhw-",
        "colab": {}
      },
      "source": [
        "models_dir = '/content/drive/My Drive/Project-EE5611/Model_files/Models/new_lstm/'\n",
        "feat_file='/content/drive/My Drive/Project-EE5611/project_features/new_features.h5'\n",
        "fid=h5py.File(feat_file,'r');\n",
        "x_tr=fid['x_tr']\n",
        "y_tr=fid['y_tr'] \n",
        "snr_tr = np.array(fid['snr_tr'])\n",
        "x_ts=fid['x_ts']\n",
        "y_ts=fid['y_ts']\n",
        "snr_ts = np.array(fid['snr_ts'])"
      ],
      "execution_count": 0,
      "outputs": []
    },
    {
      "cell_type": "code",
      "metadata": {
        "colab_type": "code",
        "id": "dsDOPRZYzRW0",
        "outputId": "d1ca0eac-74cc-4b60-e696-f03e01be7000",
        "colab": {
          "base_uri": "https://localhost:8080/",
          "height": 353
        }
      },
      "source": [
        "m1 = ma.new_lstm()"
      ],
      "execution_count": 4,
      "outputs": [
        {
          "output_type": "stream",
          "text": [
            "Model: \"model_1\"\n",
            "_________________________________________________________________\n",
            "Layer (type)                 Output Shape              Param #   \n",
            "=================================================================\n",
            "input_1 (InputLayer)         (None, 128, 4)            0         \n",
            "_________________________________________________________________\n",
            "batch_normalization_1 (Batch (None, 128, 4)            16        \n",
            "_________________________________________________________________\n",
            "lstm_1 (LSTM)                (None, 128, 128)          68096     \n",
            "_________________________________________________________________\n",
            "lstm_2 (LSTM)                (None, 128)               131584    \n",
            "_________________________________________________________________\n",
            "dropout_1 (Dropout)          (None, 128)               0         \n",
            "_________________________________________________________________\n",
            "dense_1 (Dense)              (None, 11)                1419      \n",
            "=================================================================\n",
            "Total params: 201,115\n",
            "Trainable params: 201,107\n",
            "Non-trainable params: 8\n",
            "_________________________________________________________________\n"
          ],
          "name": "stdout"
        }
      ]
    },
    {
      "cell_type": "code",
      "metadata": {
        "colab_type": "code",
        "id": "D5ZXQeC7zRjb",
        "colab": {}
      },
      "source": [
        "checkpoint = keras.callbacks.ModelCheckpoint(models_dir+ \"model_epoch-{epoch:02d}_val_acc-{val_accuracy:.2f}.h5\", monitor='val_accuracy', verbose=2, save_best_only=False, save_weights_only=False, mode='auto', period=1)"
      ],
      "execution_count": 0,
      "outputs": []
    },
    {
      "cell_type": "code",
      "metadata": {
        "colab_type": "code",
        "id": "GfClxw3ezaM8",
        "outputId": "fbeddc35-b658-40fb-bbf8-858208419b1a",
        "colab": {
          "base_uri": "https://localhost:8080/",
          "height": 1000
        }
      },
      "source": [
        "history = m1.fit(x=x_tr,\n",
        "       y=y_tr,\n",
        "       validation_data=[x_ts,y_ts],\n",
        "       batch_size=400,\n",
        "       epochs=40,\n",
        "       shuffle='batch',\n",
        "       callbacks = [checkpoint],\n",
        "       verbose=2)"
      ],
      "execution_count": 9,
      "outputs": [
        {
          "output_type": "stream",
          "text": [
            "Train on 198000 samples, validate on 22000 samples\n",
            "Epoch 1/40\n",
            " - 110s - loss: 1.5000 - accuracy: 0.4280 - val_loss: 1.3683 - val_accuracy: 0.4716\n",
            "\n",
            "Epoch 00001: saving model to /content/drive/My Drive/Project-EE5611/Model_files/Models/new_lstm/model_epoch-01_val_acc-0.47.h5\n",
            "Epoch 2/40\n",
            " - 110s - loss: 1.3275 - accuracy: 0.4824 - val_loss: 1.2856 - val_accuracy: 0.4955\n",
            "\n",
            "Epoch 00002: saving model to /content/drive/My Drive/Project-EE5611/Model_files/Models/new_lstm/model_epoch-02_val_acc-0.50.h5\n",
            "Epoch 3/40\n",
            " - 110s - loss: 1.2700 - accuracy: 0.5016 - val_loss: 1.2756 - val_accuracy: 0.4978\n",
            "\n",
            "Epoch 00003: saving model to /content/drive/My Drive/Project-EE5611/Model_files/Models/new_lstm/model_epoch-03_val_acc-0.50.h5\n",
            "Epoch 4/40\n",
            " - 110s - loss: 1.2355 - accuracy: 0.5186 - val_loss: 1.2075 - val_accuracy: 0.5332\n",
            "\n",
            "Epoch 00004: saving model to /content/drive/My Drive/Project-EE5611/Model_files/Models/new_lstm/model_epoch-04_val_acc-0.53.h5\n",
            "Epoch 5/40\n",
            " - 109s - loss: 1.2014 - accuracy: 0.5353 - val_loss: 1.1744 - val_accuracy: 0.5475\n",
            "\n",
            "Epoch 00005: saving model to /content/drive/My Drive/Project-EE5611/Model_files/Models/new_lstm/model_epoch-05_val_acc-0.55.h5\n",
            "Epoch 6/40\n",
            " - 108s - loss: 1.1695 - accuracy: 0.5488 - val_loss: 1.1671 - val_accuracy: 0.5557\n",
            "\n",
            "Epoch 00006: saving model to /content/drive/My Drive/Project-EE5611/Model_files/Models/new_lstm/model_epoch-06_val_acc-0.56.h5\n",
            "Epoch 7/40\n",
            " - 109s - loss: 1.1539 - accuracy: 0.5563 - val_loss: 1.1533 - val_accuracy: 0.5566\n",
            "\n",
            "Epoch 00007: saving model to /content/drive/My Drive/Project-EE5611/Model_files/Models/new_lstm/model_epoch-07_val_acc-0.56.h5\n",
            "Epoch 8/40\n",
            " - 108s - loss: 1.1420 - accuracy: 0.5614 - val_loss: 1.1398 - val_accuracy: 0.5641\n",
            "\n",
            "Epoch 00008: saving model to /content/drive/My Drive/Project-EE5611/Model_files/Models/new_lstm/model_epoch-08_val_acc-0.56.h5\n",
            "Epoch 9/40\n",
            " - 108s - loss: 1.1290 - accuracy: 0.5668 - val_loss: 1.1289 - val_accuracy: 0.5687\n",
            "\n",
            "Epoch 00009: saving model to /content/drive/My Drive/Project-EE5611/Model_files/Models/new_lstm/model_epoch-09_val_acc-0.57.h5\n",
            "Epoch 10/40\n",
            " - 109s - loss: 1.1243 - accuracy: 0.5682 - val_loss: 1.1233 - val_accuracy: 0.5695\n",
            "\n",
            "Epoch 00010: saving model to /content/drive/My Drive/Project-EE5611/Model_files/Models/new_lstm/model_epoch-10_val_acc-0.57.h5\n",
            "Epoch 11/40\n",
            " - 110s - loss: 1.1151 - accuracy: 0.5732 - val_loss: 1.1230 - val_accuracy: 0.5702\n",
            "\n",
            "Epoch 00011: saving model to /content/drive/My Drive/Project-EE5611/Model_files/Models/new_lstm/model_epoch-11_val_acc-0.57.h5\n",
            "Epoch 12/40\n",
            " - 109s - loss: 1.1072 - accuracy: 0.5764 - val_loss: 1.1144 - val_accuracy: 0.5757\n",
            "\n",
            "Epoch 00012: saving model to /content/drive/My Drive/Project-EE5611/Model_files/Models/new_lstm/model_epoch-12_val_acc-0.58.h5\n",
            "Epoch 13/40\n",
            " - 109s - loss: 1.1039 - accuracy: 0.5774 - val_loss: 1.1078 - val_accuracy: 0.5773\n",
            "\n",
            "Epoch 00013: saving model to /content/drive/My Drive/Project-EE5611/Model_files/Models/new_lstm/model_epoch-13_val_acc-0.58.h5\n",
            "Epoch 14/40\n",
            " - 109s - loss: 1.0978 - accuracy: 0.5805 - val_loss: 1.1115 - val_accuracy: 0.5790\n",
            "\n",
            "Epoch 00014: saving model to /content/drive/My Drive/Project-EE5611/Model_files/Models/new_lstm/model_epoch-14_val_acc-0.58.h5\n",
            "Epoch 15/40\n",
            " - 110s - loss: 1.0931 - accuracy: 0.5833 - val_loss: 1.1004 - val_accuracy: 0.5812\n",
            "\n",
            "Epoch 00015: saving model to /content/drive/My Drive/Project-EE5611/Model_files/Models/new_lstm/model_epoch-15_val_acc-0.58.h5\n",
            "Epoch 16/40\n",
            " - 110s - loss: 1.0877 - accuracy: 0.5858 - val_loss: 1.1024 - val_accuracy: 0.5840\n",
            "\n",
            "Epoch 00016: saving model to /content/drive/My Drive/Project-EE5611/Model_files/Models/new_lstm/model_epoch-16_val_acc-0.58.h5\n",
            "Epoch 17/40\n",
            " - 110s - loss: 1.0829 - accuracy: 0.5898 - val_loss: 1.0996 - val_accuracy: 0.5847\n",
            "\n",
            "Epoch 00017: saving model to /content/drive/My Drive/Project-EE5611/Model_files/Models/new_lstm/model_epoch-17_val_acc-0.58.h5\n",
            "Epoch 18/40\n",
            " - 110s - loss: 1.0790 - accuracy: 0.5940 - val_loss: 1.0954 - val_accuracy: 0.5898\n",
            "\n",
            "Epoch 00018: saving model to /content/drive/My Drive/Project-EE5611/Model_files/Models/new_lstm/model_epoch-18_val_acc-0.59.h5\n",
            "Epoch 19/40\n",
            " - 110s - loss: 1.0661 - accuracy: 0.6057 - val_loss: 1.0877 - val_accuracy: 0.5974\n",
            "\n",
            "Epoch 00019: saving model to /content/drive/My Drive/Project-EE5611/Model_files/Models/new_lstm/model_epoch-19_val_acc-0.60.h5\n",
            "Epoch 20/40\n",
            " - 110s - loss: 1.0508 - accuracy: 0.6156 - val_loss: 1.0636 - val_accuracy: 0.6138\n",
            "\n",
            "Epoch 00020: saving model to /content/drive/My Drive/Project-EE5611/Model_files/Models/new_lstm/model_epoch-20_val_acc-0.61.h5\n",
            "Epoch 21/40\n",
            " - 110s - loss: 1.0384 - accuracy: 0.6225 - val_loss: 1.0614 - val_accuracy: 0.6151\n",
            "\n",
            "Epoch 00021: saving model to /content/drive/My Drive/Project-EE5611/Model_files/Models/new_lstm/model_epoch-21_val_acc-0.62.h5\n",
            "Epoch 22/40\n",
            " - 110s - loss: 1.0294 - accuracy: 0.6269 - val_loss: 1.0553 - val_accuracy: 0.6173\n",
            "\n",
            "Epoch 00022: saving model to /content/drive/My Drive/Project-EE5611/Model_files/Models/new_lstm/model_epoch-22_val_acc-0.62.h5\n",
            "Epoch 23/40\n",
            " - 109s - loss: 1.0256 - accuracy: 0.6283 - val_loss: 1.0524 - val_accuracy: 0.6199\n",
            "\n",
            "Epoch 00023: saving model to /content/drive/My Drive/Project-EE5611/Model_files/Models/new_lstm/model_epoch-23_val_acc-0.62.h5\n",
            "Epoch 24/40\n",
            " - 110s - loss: 1.0139 - accuracy: 0.6331 - val_loss: 1.0622 - val_accuracy: 0.6185\n",
            "\n",
            "Epoch 00024: saving model to /content/drive/My Drive/Project-EE5611/Model_files/Models/new_lstm/model_epoch-24_val_acc-0.62.h5\n",
            "Epoch 25/40\n",
            " - 110s - loss: 1.0104 - accuracy: 0.6350 - val_loss: 1.0499 - val_accuracy: 0.6201\n",
            "\n",
            "Epoch 00025: saving model to /content/drive/My Drive/Project-EE5611/Model_files/Models/new_lstm/model_epoch-25_val_acc-0.62.h5\n",
            "Epoch 26/40\n",
            " - 110s - loss: 1.0048 - accuracy: 0.6365 - val_loss: 1.0571 - val_accuracy: 0.6183\n",
            "\n",
            "Epoch 00026: saving model to /content/drive/My Drive/Project-EE5611/Model_files/Models/new_lstm/model_epoch-26_val_acc-0.62.h5\n",
            "Epoch 27/40\n",
            " - 110s - loss: 0.9994 - accuracy: 0.6389 - val_loss: 1.0480 - val_accuracy: 0.6227\n",
            "\n",
            "Epoch 00027: saving model to /content/drive/My Drive/Project-EE5611/Model_files/Models/new_lstm/model_epoch-27_val_acc-0.62.h5\n",
            "Epoch 28/40\n",
            " - 109s - loss: 0.9949 - accuracy: 0.6407 - val_loss: 1.0560 - val_accuracy: 0.6211\n",
            "\n",
            "Epoch 00028: saving model to /content/drive/My Drive/Project-EE5611/Model_files/Models/new_lstm/model_epoch-28_val_acc-0.62.h5\n",
            "Epoch 29/40\n",
            " - 109s - loss: 0.9905 - accuracy: 0.6431 - val_loss: 1.0535 - val_accuracy: 0.6230\n",
            "\n",
            "Epoch 00029: saving model to /content/drive/My Drive/Project-EE5611/Model_files/Models/new_lstm/model_epoch-29_val_acc-0.62.h5\n",
            "Epoch 30/40\n",
            " - 109s - loss: 0.9855 - accuracy: 0.6448 - val_loss: 1.0525 - val_accuracy: 0.6230\n",
            "\n",
            "Epoch 00030: saving model to /content/drive/My Drive/Project-EE5611/Model_files/Models/new_lstm/model_epoch-30_val_acc-0.62.h5\n",
            "Epoch 31/40\n",
            " - 110s - loss: 0.9832 - accuracy: 0.6457 - val_loss: 1.0594 - val_accuracy: 0.6196\n",
            "\n",
            "Epoch 00031: saving model to /content/drive/My Drive/Project-EE5611/Model_files/Models/new_lstm/model_epoch-31_val_acc-0.62.h5\n",
            "Epoch 32/40\n",
            " - 109s - loss: 0.9781 - accuracy: 0.6471 - val_loss: 1.0562 - val_accuracy: 0.6233\n",
            "\n",
            "Epoch 00032: saving model to /content/drive/My Drive/Project-EE5611/Model_files/Models/new_lstm/model_epoch-32_val_acc-0.62.h5\n",
            "Epoch 33/40\n",
            " - 110s - loss: 0.9790 - accuracy: 0.6479 - val_loss: 1.0532 - val_accuracy: 0.6235\n",
            "\n",
            "Epoch 00033: saving model to /content/drive/My Drive/Project-EE5611/Model_files/Models/new_lstm/model_epoch-33_val_acc-0.62.h5\n",
            "Epoch 34/40\n",
            " - 110s - loss: 0.9693 - accuracy: 0.6507 - val_loss: 1.0605 - val_accuracy: 0.6254\n",
            "\n",
            "Epoch 00034: saving model to /content/drive/My Drive/Project-EE5611/Model_files/Models/new_lstm/model_epoch-34_val_acc-0.63.h5\n",
            "Epoch 35/40\n",
            " - 110s - loss: 0.9633 - accuracy: 0.6528 - val_loss: 1.0658 - val_accuracy: 0.6235\n",
            "\n",
            "Epoch 00035: saving model to /content/drive/My Drive/Project-EE5611/Model_files/Models/new_lstm/model_epoch-35_val_acc-0.62.h5\n",
            "Epoch 36/40\n",
            " - 110s - loss: 0.9595 - accuracy: 0.6554 - val_loss: 1.0765 - val_accuracy: 0.6238\n",
            "\n",
            "Epoch 00036: saving model to /content/drive/My Drive/Project-EE5611/Model_files/Models/new_lstm/model_epoch-36_val_acc-0.62.h5\n",
            "Epoch 37/40\n",
            " - 110s - loss: 0.9604 - accuracy: 0.6546 - val_loss: 1.0633 - val_accuracy: 0.6229\n",
            "\n",
            "Epoch 00037: saving model to /content/drive/My Drive/Project-EE5611/Model_files/Models/new_lstm/model_epoch-37_val_acc-0.62.h5\n",
            "Epoch 38/40\n",
            " - 109s - loss: 0.9518 - accuracy: 0.6576 - val_loss: 1.0679 - val_accuracy: 0.6241\n",
            "\n",
            "Epoch 00038: saving model to /content/drive/My Drive/Project-EE5611/Model_files/Models/new_lstm/model_epoch-38_val_acc-0.62.h5\n",
            "Epoch 39/40\n",
            " - 109s - loss: 0.9463 - accuracy: 0.6602 - val_loss: 1.0776 - val_accuracy: 0.6221\n",
            "\n",
            "Epoch 00039: saving model to /content/drive/My Drive/Project-EE5611/Model_files/Models/new_lstm/model_epoch-39_val_acc-0.62.h5\n",
            "Epoch 40/40\n",
            " - 109s - loss: 0.9432 - accuracy: 0.6614 - val_loss: 1.0819 - val_accuracy: 0.6188\n",
            "\n",
            "Epoch 00040: saving model to /content/drive/My Drive/Project-EE5611/Model_files/Models/new_lstm/model_epoch-40_val_acc-0.62.h5\n"
          ],
          "name": "stdout"
        }
      ]
    },
    {
      "cell_type": "code",
      "metadata": {
        "colab_type": "code",
        "id": "pZ-r6ZmezaYP",
        "outputId": "160cef8e-cf86-4adb-b358-359e790960d5",
        "colab": {
          "base_uri": "https://localhost:8080/",
          "height": 545
        }
      },
      "source": [
        "acc_new_lstm = history.history['accuracy']\n",
        "val_acc_new_lstm = history.history['val_accuracy']\n",
        "loss_new_lstm = history.history['loss']\n",
        "val_loss_new_lstm = history.history['val_loss']\n",
        "epochs = range(1, len(acc_new_lstm) + 1)\n",
        "plt.plot(epochs, acc_new_lstm, label='Training acc')\n",
        "plt.plot(epochs, val_acc_new_lstm, label='Validation acc')\n",
        "plt.title('Training and validation accuracy for New LSTM')\n",
        "plt.legend()\n",
        "plt.figure()\n",
        "plt.plot(epochs, loss_new_lstm, label='Training loss')\n",
        "plt.plot(epochs, val_loss_new_lstm, label='Validation loss')\n",
        "plt.title('Training and validation loss for New LSTM')\n",
        "plt.legend()\n",
        "plt.show()"
      ],
      "execution_count": 10,
      "outputs": [
        {
          "output_type": "display_data",
          "data": {
            "image/png": "[encoded data removed]",
            "text/plain": [
              "<Figure size 432x288 with 1 Axes>"
            ]
          },
          "metadata": {
            "tags": [],
            "needs_background": "light"
          }
        },
        {
          "output_type": "display_data",
          "data": {
            "image/png": "[encoded data removed]",
            "text/plain": [
              "<Figure size 432x288 with 1 Axes>"
            ]
          },
          "metadata": {
            "tags": [],
            "needs_background": "light"
          }
        }
      ]
    },
    {
      "cell_type": "code",
      "metadata": {
        "id": "07x-CJSBfTiI",
        "colab_type": "code",
        "colab": {
          "base_uri": "https://localhost:8080/",
          "height": 54
        },
        "outputId": "00653bc9-b701-43a5-bdfb-73c5d46c8e6a"
      },
      "source": [
        "print(acc_new_lstm,val_acc_new_lstm,loss_new_lstm,val_loss_new_lstm )"
      ],
      "execution_count": 11,
      "outputs": [
        {
          "output_type": "stream",
          "text": [
            "[0.42804545, 0.48240405, 0.5015606, 0.5185505, 0.53530806, 0.54879296, 0.55625254, 0.5614141, 0.5668384, 0.56824243, 0.57321215, 0.5764192, 0.5774242, 0.58046967, 0.5833384, 0.58577776, 0.5898283, 0.59396464, 0.60566664, 0.6155556, 0.62250507, 0.6268535, 0.6282778, 0.6331364, 0.63500506, 0.6365404, 0.6388889, 0.6407071, 0.64305556, 0.6447929, 0.6457273, 0.64710605, 0.64785856, 0.6506717, 0.6527525, 0.65543437, 0.6546364, 0.657601, 0.66015154, 0.66139394] [0.47159090638160706, 0.4954545497894287, 0.4977727234363556, 0.5331818461418152, 0.5475454330444336, 0.5557272434234619, 0.556636393070221, 0.5640909075737, 0.5687272548675537, 0.5695000290870667, 0.5701818466186523, 0.5756818056106567, 0.5772727131843567, 0.5789545178413391, 0.5811818242073059, 0.5839999914169312, 0.5846818089485168, 0.5897727012634277, 0.5974090695381165, 0.6138181686401367, 0.6150909066200256, 0.6172727346420288, 0.6199091076850891, 0.6184999942779541, 0.6201363801956177, 0.6182727217674255, 0.6226817965507507, 0.6210908889770508, 0.6230000257492065, 0.6230000257492065, 0.6196363568305969, 0.623272716999054, 0.6234545707702637, 0.6253636479377747, 0.6234545707702637, 0.6237727403640747, 0.6229090690612793, 0.6241363883018494, 0.6221363544464111, 0.6187727451324463] [1.5000312393361872, 1.3275097760287198, 1.2700206190648704, 1.2355122751659817, 1.201373948472919, 1.1695432097020775, 1.153879658862798, 1.1419918061506869, 1.1289716081185774, 1.1242899663520582, 1.1151200540138013, 1.1072323283763847, 1.1039294790739964, 1.0977600013366853, 1.0930645603122133, 1.0877444347949943, 1.0829273984889791, 1.0789840695833919, 1.0660553085683573, 1.0507962072738493, 1.0384288508482653, 1.0293590198863636, 1.0255814044162481, 1.0139314818863916, 1.0104030546515879, 1.0048284529435514, 0.9994058073169053, 0.9948603017161591, 0.9904579222804368, 0.9855456413644733, 0.9832303713066409, 0.978149002609831, 0.9790139041765772, 0.9693020826638347, 0.9633153420506102, 0.9595319690126362, 0.9604171385668745, 0.9518134649353798, 0.9462829768055617, 0.9432091402285027] [1.36829034618356, 1.2856385648589244, 1.2756248093464158, 1.2074794252318415, 1.1743560166352174, 1.16714138940654, 1.153346647356044, 1.1397801663049243, 1.128874381546947, 1.1233101151206277, 1.122957360338081, 1.1143722600049593, 1.1077766488136893, 1.1114557816139, 1.1004083933742632, 1.1023976235459982, 1.0995703341873277, 1.0954075991197236, 1.0877065569649196, 1.0636465291545556, 1.061423382895406, 1.0553180690357378, 1.0523500462253155, 1.0622065945147452, 1.0499326790026813, 1.0571102701153987, 1.0480007971393537, 1.055978653005811, 1.0534858579593922, 1.0524781884985384, 1.059367012073794, 1.0562044995408293, 1.0531656443755226, 1.0604606533983976, 1.0658248585548293, 1.0765024213390213, 1.0632998511893674, 1.0679142199271485, 1.0776383329966022, 1.0818656274540859]\n"
          ],
          "name": "stdout"
        }
      ]
    }
  ]
}
