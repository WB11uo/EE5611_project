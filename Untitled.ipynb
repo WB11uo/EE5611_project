{
 "cells": [
  {
   "cell_type": "code",
   "execution_count": 15,
   "metadata": {},
   "outputs": [],
   "source": [
    "import numpy as np\n",
    "import re\n",
    "\n",
    "def strip_padding(string):\n",
    "    \n",
    "    if len(string)==0:\n",
    "        return \"Invalid Input\"\n",
    "    \n",
    "    sign = 'none'\n",
    "    \n",
    "    for i in string:\n",
    "        if i == '+' or i == '-':\n",
    "            sign = i\n",
    "            break\n",
    "            \n",
    "    a = re.split('[+ -]',string)\n",
    "    \n",
    "    for i in range(len(a)):\n",
    "        b = a[i]\n",
    "        count=0\n",
    "        j =b[count]\n",
    "        while  j=='0':\n",
    "            count+=1\n",
    "            if count == len(b):\n",
    "                break\n",
    "            j=b[count]\n",
    "        \n",
    "        if count == len(b):\n",
    "            a[i] = '0'\n",
    "        else:\n",
    "            a[i] = b[count:]\n",
    "        \n",
    "    if sign =='none':\n",
    "        return a[0]\n",
    "    else:\n",
    "        return a[0] + sign + a[1]"
   ]
  },
  {
   "cell_type": "code",
   "execution_count": 16,
   "metadata": {},
   "outputs": [
    {
     "name": "stdout",
     "output_type": "stream",
     "text": [
      "982+2\n",
      "82-65\n",
      "0\n"
     ]
    }
   ],
   "source": [
    "print(strip_padding(\"00982+002\"))\n",
    "print(strip_padding(\"0082-0000065\"))\n",
    "print(strip_padding(\"0000\"))"
   ]
  },
  {
   "cell_type": "code",
   "execution_count": null,
   "metadata": {},
   "outputs": [],
   "source": []
  }
 ],
 "metadata": {
  "kernelspec": {
   "display_name": "Python 3",
   "language": "python",
   "name": "python3"
  },
  "language_info": {
   "codemirror_mode": {
    "name": "ipython",
    "version": 3
   },
   "file_extension": ".py",
   "mimetype": "text/x-python",
   "name": "python",
   "nbconvert_exporter": "python",
   "pygments_lexer": "ipython3",
   "version": "3.6.9"
  }
 },
 "nbformat": 4,
 "nbformat_minor": 4
}
