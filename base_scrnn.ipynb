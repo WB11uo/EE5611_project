{
 "cells": [
  {
   "cell_type": "code",
   "execution_count": 12,
   "metadata": {},
   "outputs": [],
   "source": [
    "import numpy as np\n",
    "import matplotlib.pyplot as plt\n",
    "from keras.layers import Input,Dense,Flatten,MaxPool1D,Activation,LeakyReLU,LSTM,BatchNormalization,Dropout, Conv1D,Lambda\n",
    "from keras.models import Model\n",
    "import pandas as pd\n",
    "import keras.backend as K\n",
    "import h5py"
   ]
  },
  {
   "cell_type": "code",
   "execution_count": 4,
   "metadata": {},
   "outputs": [],
   "source": [
    "feat_file='../project_features/base_scrnn_features.h5'\n",
    "fid=h5py.File(feat_file,'r');\n",
    "x_tr=fid['x_tr']\n",
    "y_tr=fid['y_tr']\n",
    "snr_tr = fid['snr_tr']\n",
    "x_ts=fid['x_ts']\n",
    "y_ts=fid['y_ts']\n",
    "snr_ts = fid['snr_ts']"
   ]
  },
  {
   "cell_type": "code",
   "execution_count": 22,
   "metadata": {},
   "outputs": [],
   "source": [
    "def model1():\n",
    "    inputs = Input((128,2,))\n",
    "    l = BatchNormalization()(inputs)\n",
    "#     l = Lambda(lambda t: K.expand_dims(t, -2))(l)\n",
    "    l = Conv1D(filters=128,kernel_size=5,activation='relu')(l)\n",
    "    l = MaxPool1D(3)(l)\n",
    "    l = Conv1D(filters=128,kernel_size=5,activation='relu')(l)\n",
    "#     l = Lambda(lambda t: K.squeeze(t, -2))(l)\n",
    "    l = LSTM(128,return_sequences=True,activation='relu')(l)\n",
    "    l = LSTM(128,return_sequences=True,activation='relu')(l)\n",
    "    l = Flatten()(l)\n",
    "    outputs = Dense(11,activation='softmax')(l)\n",
    "\n",
    "    model = Model(inputs,outputs)\n",
    "    model.compile(loss='categorical_crossentropy', optimizer='adam',metrics=['accuracy'])\n",
    "    model.summary()\n",
    "    return model"
   ]
  },
  {
   "cell_type": "code",
   "execution_count": 23,
   "metadata": {},
   "outputs": [
    {
     "name": "stdout",
     "output_type": "stream",
     "text": [
      "Model: \"model_5\"\n",
      "_________________________________________________________________\n",
      "Layer (type)                 Output Shape              Param #   \n",
      "=================================================================\n",
      "input_5 (InputLayer)         (None, 128, 2)            0         \n",
      "_________________________________________________________________\n",
      "batch_normalization_5 (Batch (None, 128, 2)            8         \n",
      "_________________________________________________________________\n",
      "conv1d_7 (Conv1D)            (None, 124, 128)          1408      \n",
      "_________________________________________________________________\n",
      "max_pooling1d_4 (MaxPooling1 (None, 41, 128)           0         \n",
      "_________________________________________________________________\n",
      "conv1d_8 (Conv1D)            (None, 37, 128)           82048     \n",
      "_________________________________________________________________\n",
      "lstm_9 (LSTM)                (None, 37, 128)           131584    \n",
      "_________________________________________________________________\n",
      "lstm_10 (LSTM)               (None, 37, 128)           131584    \n",
      "_________________________________________________________________\n",
      "flatten_3 (Flatten)          (None, 4736)              0         \n",
      "_________________________________________________________________\n",
      "dense_5 (Dense)              (None, 11)                52107     \n",
      "=================================================================\n",
      "Total params: 398,739\n",
      "Trainable params: 398,735\n",
      "Non-trainable params: 4\n",
      "_________________________________________________________________\n"
     ]
    }
   ],
   "source": [
    "m1 = model1()"
   ]
  },
  {
   "cell_type": "code",
   "execution_count": null,
   "metadata": {},
   "outputs": [
    {
     "name": "stdout",
     "output_type": "stream",
     "text": [
      "Train on 198000 samples, validate on 22000 samples\n",
      "Epoch 1/10\n",
      " 43136/198000 [=====>........................] - ETA: 9:25 - loss: 1.8334 - accuracy: 0.3034"
     ]
    }
   ],
   "source": [
    "m1.fit(x=x_tr,y=y_tr,validation_data=[x_ts,y_ts],batch_size=128,epochs=10,shuffle='batch')"
   ]
  },
  {
   "cell_type": "code",
   "execution_count": null,
   "metadata": {},
   "outputs": [],
   "source": []
  }
 ],
 "metadata": {
  "kernelspec": {
   "display_name": "Python 3",
   "language": "python",
   "name": "python3"
  },
  "language_info": {
   "codemirror_mode": {
    "name": "ipython",
    "version": 3
   },
   "file_extension": ".py",
   "mimetype": "text/x-python",
   "name": "python",
   "nbconvert_exporter": "python",
   "pygments_lexer": "ipython3",
   "version": "3.6.9"
  }
 },
 "nbformat": 4,
 "nbformat_minor": 4
}
